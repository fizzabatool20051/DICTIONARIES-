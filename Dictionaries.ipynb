{
 "cells": [
  {
   "cell_type": "code",
   "execution_count": 1,
   "id": "072168fe-8d4d-4827-9970-8b95091579db",
   "metadata": {},
   "outputs": [
    {
     "name": "stdout",
     "output_type": "stream",
     "text": [
      "{'name': 'fizza', 'age': 20, 'city': 'lahore', 'hobbies': ['reading', 'traveling', 'playing']}\n"
     ]
    }
   ],
   "source": [
    "#CREATING A DICTIONARY TO STORE INFORMATION ABOUT A PERSON\n",
    "person ={\n",
    "    \"name\":\"fizza\",\n",
    "    \"age\": 20,\n",
    "    \"city\":\"lahore\",\n",
    "    \"hobbies\":[\"reading\",\"traveling\",\"playing\"]\n",
    "}\n",
    "print(person)"
   ]
  },
  {
   "cell_type": "code",
   "execution_count": 2,
   "id": "ab04eaaf-e92d-42e0-a9d4-26605d689da5",
   "metadata": {},
   "outputs": [
    {
     "name": "stdout",
     "output_type": "stream",
     "text": [
      "inventory {'apple': 10, 'banana': 5, 'orange': 8}\n",
      "update inventory: {'apple': 15, 'orange': 8, 'grapes': 12}\n"
     ]
    }
   ],
   "source": [
    "# SIMPLE INVENTORY SYSTEM\n",
    "inventory = {\"apple\": 10, \"banana\":5 , \"orange\":8}\n",
    "print(\"inventory\",inventory)\n",
    "# ADD NEW ITEM\n",
    "inventory[\"grapes\"]=12\n",
    "# UPDATE AN ITEM\n",
    "inventory[\"apple\"] = 15\n",
    "#REMOVE AN ITEM\n",
    "del inventory[\"banana\"]\n",
    "print(\"update inventory:\",inventory)"
   ]
  },
  {
   "cell_type": "code",
   "execution_count": 7,
   "id": "8a5e0a71-9243-42bb-b2a3-68cbd9c756c6",
   "metadata": {},
   "outputs": [
    {
     "name": "stdout",
     "output_type": "stream",
     "text": [
      "student grades {'fizza': 86, 'tuba': 90, 'shaheryar': 78}\n",
      "average grade 84.66666666666667\n"
     ]
    }
   ],
   "source": [
    "# STORE STUDENT GRADES IN A DICTIONARY\n",
    "grades = {\"fizza\":86,\"tuba\":90,\"shaheryar\":78}\n",
    "# CALCULATE THE AVERAGE GRADE\n",
    "average = sum(grades.values())/len(grades)\n",
    "print(\"student grades\",grades)\n",
    "print(\"average grade\",average)"
   ]
  },
  {
   "cell_type": "code",
   "execution_count": 26,
   "id": "14c8fa71-2da5-4942-9e1e-8db94f8fedc0",
   "metadata": {},
   "outputs": [
    {
     "name": "stdout",
     "output_type": "stream",
     "text": [
      "total value: 240\n",
      "low stock item:\n",
      "orange - 2 left\n"
     ]
    }
   ],
   "source": [
    "# SIMPLE INVENTORY SYSTEM\n",
    "inventory = {\n",
    "    \"apple\":{\"quantity\":10,\"price\": 50},\n",
    "    \"banana\":{\"quantity\":5,\"price\":30},\n",
    "    \"orange\":{\"quantity\":2,\"price\":40}\n",
    "}\n",
    "# ADD NEW PRODUCT\n",
    "inventory[\"grapes\"]={\"quantity\":4,\"price\":60}\n",
    "#UPDATE QUANTITY\n",
    "inventory[\"apple\"][\"quantity\"]=8\n",
    "#CALCULATE TOTAL VALUE\n",
    "TOTAL=0\n",
    "for item in inventory:\n",
    "    total= inventory[item][\"quantity\"]*inventory[item][\"price\"]\n",
    "print(\"total value:\",total)\n",
    "#SHOW LOW STOCK ITEMS\n",
    "print(\"low stock item:\")\n",
    "for item in inventory:\n",
    "    if inventory[item][\"quantity\"]<3:\n",
    "        print(item,\"-\",inventory[item][\"quantity\"],\"left\")"
   ]
  },
  {
   "cell_type": "code",
   "execution_count": 25,
   "id": "79ac79e3-8752-4df0-9b34-03abf7940c5d",
   "metadata": {},
   "outputs": [
    {
     "name": "stdout",
     "output_type": "stream",
     "text": [
      "Fizza average: 85.0\n",
      "Tuba average: 86.0\n",
      "Fatima average: 71.0\n",
      "\n",
      "IN Math Highest: 90 lowest: 70\n",
      "\n",
      "students sorted by average:\n",
      "Tuba : 86.0\n",
      "Fizza : 85.0\n",
      "Fatima : 71.0\n"
     ]
    }
   ],
   "source": [
    "#STUDENT GRADEBOOK PROGRAM\n",
    "students={\n",
    "    \"Fizza\":{\"Math\":85,\"English\":78,\"Science\":92},\n",
    "    \"Tuba\":{\"Math\":90,\"English\":88,\"Science\":80},\n",
    "    \"Fatima\":{\"Math\":70,\"English\":75,\"Science\":68}\n",
    "}\n",
    "#AVERAGE OF EACH STUDENT\n",
    "for name in students:\n",
    "    grades = students[name]\n",
    "    avg=(grades[\"Math\"]+grades[\"English\"]+grades[\"Science\"])/3\n",
    "    print(name,\"average:\",avg)\n",
    "#HIGHEST AND LOWEST IN ONE SUBJECT\n",
    "subject=\"Math\"\n",
    "marks=[students[name][subject]for name in students]\n",
    "print(\"\\nIN\",subject,\"Highest:\",max(marks),\"lowest:\",min(marks))\n",
    "#SORT BY AVERAGE \n",
    "averages = {}\n",
    "for name in students:\n",
    "    grades = students[name]\n",
    "    avg=(grades[\"Math\"]+grades['English']+grades[\"Science\"])/3\n",
    "    averages[name]=avg\n",
    "print(\"\\nstudents sorted by average:\")\n",
    "for name in sorted(averages,key=averages.get,reverse=True):\n",
    "    print(name,\":\",averages[name])"
   ]
  }
 ],
 "metadata": {
  "kernelspec": {
   "display_name": "Python [conda env:base] *",
   "language": "python",
   "name": "conda-base-py"
  },
  "language_info": {
   "codemirror_mode": {
    "name": "ipython",
    "version": 3
   },
   "file_extension": ".py",
   "mimetype": "text/x-python",
   "name": "python",
   "nbconvert_exporter": "python",
   "pygments_lexer": "ipython3",
   "version": "3.13.5"
  }
 },
 "nbformat": 4,
 "nbformat_minor": 5
}
